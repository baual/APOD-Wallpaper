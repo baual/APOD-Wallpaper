{
 "cells": [
  {
   "cell_type": "code",
   "execution_count": 6,
   "metadata": {},
   "outputs": [],
   "source": [
    "#Log management\n",
    "from logging    import getLogger as lgGetLogger, \\\n",
    "    INFO, \\\n",
    "    basicConfig as lgBasicConfig\n",
    "\n",
    "logger = lgGetLogger(__name__)\n",
    "lgBasicConfig(\n",
    "    format='%(filename)s - %(funcName)s - %(levelname)s: %(message)s',\n",
    "    level=INFO\n",
    ")\n"
   ]
  },
  {
   "cell_type": "markdown",
   "metadata": {},
   "source": [
    "# a verifier"
   ]
  },
  {
   "cell_type": "code",
   "execution_count": null,
   "metadata": {},
   "outputs": [],
   "source": [
    "\n",
    "\"\"\"Function that checks the \"age\" of the current file\n",
    "assues that if the fiole is older than the current then a new picture is available.\n",
    "total CRAP\n",
    "\n",
    "TO BE REPLACE BY THIS ASSUMPTION. CHECK ONCE A DAY IF THE SAME FROM APOD IS DIFFERENT THAN THE ONE IN LOCAL.\n",
    "\n",
    "Parameters\n",
    "----------\n",
    "apodPath : str - Path to the apod-image\n",
    "\n",
    "Return value (int)\n",
    "------------------\n",
    "0 - The image is up-to-date\n",
    "1 - New image available\n",
    "\n",
    "\"\"\"\n",
    "def checkAPOD(apodPath) -> int:\n",
    "    logger.info(\"Checking if image need to be updated\")\n",
    "    res = 1\n",
    "    if isfile(apodPath):\n",
    "        # File exists\n",
    "        #obsolete\n",
    "        #lastModDay = datetime.utcfromtimestamp(\n",
    "        #    getmtime(apodPath)).strftime(\"%Y/%m/%d\")\n",
    "        #today = datetime.utcnow().strftime(\"%Y/%m/%d\")\n",
    "        lastModDay = datetime.fromtimestamp(datetime.timezone.utc(\n",
    "            getmtime(apodPath)).strftime(\"%Y/%m/%d\"))\n",
    "        today = datetime.now(datetime.timezone.utc).strftime(\"%Y/%m/%d\")        \n",
    "        if lastModDay == today:\n",
    "            logger.info(\"Image up-to-date\")\n",
    "            res = 0\n",
    "        else:\n",
    "            # New APOD available => download\n",
    "            logger.info(\"New image available\")\n",
    "    else:\n",
    "        # File doesn't exists => download\n",
    "        logger.info(\"No image found\")\n",
    "    return res\n"
   ]
  },
  {
   "cell_type": "markdown",
   "metadata": {},
   "source": [
    "# OK"
   ]
  },
  {
   "cell_type": "code",
   "execution_count": 7,
   "metadata": {},
   "outputs": [],
   "source": [
    "\n",
    "\"\"\"Function that checks if there's internet connectivity \n",
    "\n",
    "Return value (boolean)\n",
    "------------------\n",
    "True - connection internet\n",
    "False - pas de connection\n",
    "\n",
    "\"\"\"\n",
    "from urllib3 import PoolManager\n",
    "\n",
    "def internet_conn() -> bool:\n",
    "    logger.info(\"Checking internet connectivity\")\n",
    "    http = PoolManager(timeout=3.0)\n",
    "    r = http.request('GET', 'google.com', preload_content=False)\n",
    "    code = r.status\n",
    "    r.release_conn()\n",
    "    if code == 200:\n",
    "        return True\n",
    "    else:\n",
    "        return False\n",
    "        logger.error(\"No internet connectivity\")\n",
    "    \n",
    "#print(check_internet_conn())"
   ]
  },
  {
   "cell_type": "code",
   "execution_count": 8,
   "metadata": {},
   "outputs": [],
   "source": [
    "\n",
    "\"\"\"\n",
    "getAPOD() \n",
    "\n",
    "Function that gets the APOD url using the NASA API\n",
    "\n",
    "Return value (str)\n",
    "------------------\n",
    "APOD URL - URL retrieved successfully\n",
    "None     - Error\n",
    "\n",
    "\"\"\"\n",
    "\n",
    "from requests   import get as reqGet\n",
    "\n",
    "def getAPOD() -> str:\n",
    "    logger.info(\"Downloading APOD image URL\")\n",
    "    # Used DEMO_KEY as the api_key since the constraints are based on IP\n",
    "    response = reqGet('https://api.nasa.gov/planetary/apod',\n",
    "                      params={\n",
    "                          'api_key' : 'DEMO_KEY'\n",
    "                      })\n",
    "    # Status code check\n",
    "    if response.status_code == 200:\n",
    "        logger.info(\"Download successful\")\n",
    "        information = response.json()\n",
    "        if information.get('media_type') == \"image\":\n",
    "            url = response.json()['hdurl']\n",
    "            isphoto = True\n",
    "        elif information.get('media_type') == \"video\":\n",
    "            url = response.json()['url']\n",
    "            isphoto = False\n",
    "        else:\n",
    "            raise RuntimeError(\"APOD is not an image or video\")\n",
    "    else:\n",
    "        logger.error(\"Can't get the APOD image URL\")\n",
    "        logger.error(\"Status code: %s\", response.status_code)\n",
    "    return (isphoto, url, response.json()['title'])\n",
    "\n",
    "\n",
    "#print(getAPOD())"
   ]
  },
  {
   "cell_type": "code",
   "execution_count": null,
   "metadata": {},
   "outputs": [],
   "source": []
  },
  {
   "cell_type": "markdown",
   "metadata": {},
   "source": [
    "# A vérifier"
   ]
  },
  {
   "cell_type": "markdown",
   "metadata": {},
   "source": [
    "# the end "
   ]
  },
  {
   "cell_type": "code",
   "execution_count": null,
   "metadata": {},
   "outputs": [],
   "source": [
    "\"\"\"\n",
    "la fin\n",
    "\n",
    "\"\"\"\n",
    "\"\"\"\n",
    "from os.path    import expanduser\n",
    "\n",
    "def main():\n",
    "    logger.info(\"Init script\")\n",
    "    # Path to APOD image on local storage\n",
    "    apodPath = expanduser(\"~/.wallpaper.png\")\n",
    "    # Check if new APOD image available\n",
    "    if checkAPOD(apodPath) != 0:\n",
    "        if not internet_conn():\n",
    "            exit(1)\n",
    "            # Get APOD URL\n",
    "        apodIsImage, apodURL, apodTitle  = getAPOD()\n",
    "        if apodURL is None:\n",
    "            exit(2)\n",
    "            # Download image\n",
    "        if downloadAPOD(apodURL, apodPath, apodIsImage) != 0:\n",
    "            exit(3)\n",
    "        if apodNotify(apodTitle) != 0:\n",
    "            exit(4)\n",
    "            # Set APOD image\n",
    "    setWallpaper(apodPath)\n",
    "    exit(0)\n",
    "\n",
    "\n",
    "if __name__ == \"__main__\":\n",
    "    main()\n",
    "\n",
    "\"\"\""
   ]
  }
 ],
 "metadata": {
  "kernelspec": {
   "display_name": "base",
   "language": "python",
   "name": "python3"
  },
  "language_info": {
   "codemirror_mode": {
    "name": "ipython",
    "version": 3
   },
   "file_extension": ".py",
   "mimetype": "text/x-python",
   "name": "python",
   "nbconvert_exporter": "python",
   "pygments_lexer": "ipython3",
   "version": "3.12.3"
  }
 },
 "nbformat": 4,
 "nbformat_minor": 2
}
